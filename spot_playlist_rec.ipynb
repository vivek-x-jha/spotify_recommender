{
 "cells": [
  {
   "cell_type": "markdown",
   "metadata": {},
   "source": [
    "# Spotify Recommender Playlist\n",
    "\n",
    "#### Source: [Deep Learning Turkey](https://medium.com/deep-learning-turkey/build-your-own-spotify-playlist-of-best-playlist-recommendations-fc9ebe92826a)\n",
    "#### [Spotify Developer Key](https://developer.spotify.com/dashboard/applications/692c6ca99e4e418ea42a1a79ce970a04)"
   ]
  },
  {
   "cell_type": "code",
   "execution_count": 10,
   "metadata": {
    "pycharm": {
     "is_executing": false,
     "name": "#%%\n"
    }
   },
   "outputs": [],
   "source": [
    "# Create a conda virtual environment\n",
    "\n",
    "# !conda create -n spotify_playlist_rec python=3.8 pandas scikit-learn matplotlib seaborn scipy jupyter\n",
    "# !pip install spotipy\n",
    "\n",
    "# If the above does not work for you, manually download the packages via pip\n",
    "\n",
    "# !pip install pandas\n",
    "# !pip install scikit-learn\n",
    "# !pip install matplotlib\n",
    "# !pip install seaborn\n",
    "# !pip install scipy\n",
    "# !pip install jupyter\n",
    "# !pip install spotipy"
   ]
  },
  {
   "cell_type": "markdown",
   "metadata": {
    "pycharm": {
     "name": "#%% md\n"
    }
   },
   "source": [
    "#### Import Spotipy library - you may want to check documentation [here](https://spotipy.readthedocs.io/en/latest/).\n",
    "Authorize a token at a scope containing at least “playlist-modify-public” access (You may add more to your scope. For available scopes see [here](https://developer.spotify.com/documentation/general/guides/scopes/))."
   ]
  },
  {
   "cell_type": "code",
   "execution_count": 26,
   "outputs": [],
   "source": [
    "import spotipy\n",
    "from spotipy.oauth2 import SpotifyClientCredentials\n",
    "import spotipy.util as util\n",
    "\n",
    "cid ='692c6ca99e4e418ea42a1a79ce970a04' # Client ID; copy this from your app \n",
    "secret = '805e9c8f7c8b401d88edc00604aa300f' # Client Secret; copy this from your app\n",
    "username = 'Vivek Jha' # Your Spotify username\n",
    "\n",
    "#for avaliable scopes see https://developer.spotify.com/web-api/using-scopes/\n",
    "scope = 'user-library-read playlist-modify-public playlist-read-private'\n",
    "\n",
    "redirect_uri='https://developer.spotify.com/dashboard/applications/692c6ca99e4e418ea42a1a79ce970a04' # Paste your Redirect URI here\n",
    "\n",
    "client_credentials_manager = SpotifyClientCredentials(client_id=cid, client_secret=secret) \n",
    "sp = spotipy.Spotify(client_credentials_manager=client_credentials_manager)\n",
    "token = util.prompt_for_user_token(username, scope, cid, secret, redirect_uri)\n",
    "\n",
    "if token:\n",
    "    sp = spotipy.Spotify(auth=token)\n",
    "else:\n",
    "    print(\"Can't get token for\", username)\n"
   ],
   "metadata": {
    "collapsed": false,
    "pycharm": {
     "name": "#%%\n",
     "is_executing": false
    }
   }
  },
  {
   "cell_type": "markdown",
   "source": [
    "#### Load your source playlist as a dataframe with audio features, setting track names as indices. You will get used to the way Spotify stores data in playlists after a plenty of experiments.\n"
   ],
   "metadata": {
    "collapsed": false,
    "pycharm": {
     "name": "#%% md\n"
    }
   }
  },
  {
   "cell_type": "code",
   "execution_count": 27,
   "outputs": [
    {
     "name": "stdout",
     "text": [
      "(31, 18)\n"
     ],
     "output_type": "stream"
    }
   ],
   "source": [
    "#Create a dataframe of your playlist including tracks' names and audio features\n",
    "import pandas as pd\n",
    "\n",
    "# https://open.spotify.com/playlist/3YJqZuOCONKv1My6NfM1t9\n",
    "# sourcePlaylistID = '34rdtt0yzrwDbvnkCb3xaP'\n",
    "sourcePlaylistID = '3YJqZuOCONKv1My6NfM1t9'\n",
    "sourcePlaylist = sp.user_playlist(username, sourcePlaylistID);\n",
    "tracks = sourcePlaylist['tracks'];\n",
    "songs = tracks['items'];\n",
    "\n",
    "track_ids = []\n",
    "track_names = []\n",
    "\n",
    "for i in range(len(songs)):\n",
    "    if songs[i]['track']['id'] is not None: # Removes the local tracks in your playlist if there is any\n",
    "        track_ids.append(songs[i]['track']['id'])\n",
    "        track_names.append(songs[i]['track']['name'])\n",
    "\n",
    "features = []\n",
    "for i in range(len(track_ids)):\n",
    "    audio_features = sp.audio_features(track_ids[i])\n",
    "    for track in audio_features:\n",
    "        features.append(track)\n",
    "\n",
    "playlist_df = pd.DataFrame(features, index=track_names)\n",
    "print(playlist_df.shape)"
   ],
   "metadata": {
    "collapsed": false,
    "pycharm": {
     "name": "#%%\n",
     "is_executing": false
    }
   }
  },
  {
   "cell_type": "markdown",
   "source": [
    "#### One of the important steps here in the above code is to make it ignore local tracks in your source playlist if any. It is possible to add local tracks to a playlist from your local machine but these tracks will not have track ids or acoustic features so we will not be able to use them here"
   ],
   "metadata": {
    "collapsed": false,
    "pycharm": {
     "name": "#%% md\n",
     "is_executing": false
    }
   }
  },
  {
   "cell_type": "code",
   "execution_count": 28,
   "outputs": [],
   "source": [
    "# Pick only relevant features;\n",
    "playlist_df = playlist_df[\n",
    "    ['id',\n",
    "     'acousticness',\n",
    "     'danceability',\n",
    "     'duration_ms',\n",
    "     'energy',\n",
    "     'instrumentalness',\n",
    "     'key',\n",
    "     'liveness',\n",
    "     'loudness',\n",
    "     'mode',\n",
    "     'speechiness',\n",
    "     'tempo',\n",
    "     'valence']\n",
    "]"
   ],
   "metadata": {
    "collapsed": false,
    "pycharm": {
     "name": "#%%\n",
     "is_executing": false
    }
   }
  },
  {
   "cell_type": "markdown",
   "source": [
    "#### Rate each track in your playlist with respect to its relevance to your Playlist so that our project becomes a multi-class classification task. Add this rating as a target column to your source playlist dataframe. For my example I used a rating from 1 to 10;\n"
   ],
   "metadata": {
    "collapsed": false,
    "pycharm": {
     "name": "#%% md\n",
     "is_executing": false
    }
   }
  },
  {
   "cell_type": "code",
   "execution_count": 29,
   "outputs": [],
   "source": [
    "playlist_df['ratings'] = [10, 9, 9, 10, 8, 6, 8, 4, 3, 5, 7, 5, 5, 8, 8, 7, 8, 8, 10, 8, 10, 8, 4, 4, 4, 10, 10, 9, 8, 8, 4]"
   ],
   "metadata": {
    "collapsed": false,
    "pycharm": {
     "name": "#%%\n",
     "is_executing": false
    }
   }
  },
  {
   "cell_type": "code",
   "execution_count": 30,
   "outputs": [],
   "source": [
    "# From now on, your source playlist dataframe will be your training set\n",
    "X_train = playlist_df.drop(['id', 'ratings'], axis=1)\n",
    "y_train = playlist_df['ratings']"
   ],
   "metadata": {
    "collapsed": false,
    "pycharm": {
     "name": "#%%\n",
     "is_executing": false
    }
   }
  },
  {
   "cell_type": "markdown",
   "source": [
    "#### We will be using PCA to reduce the dimensionality of our dataset.\n",
    "\n",
    "##### Won't go too much into the details, but this is a standard feature engineering technique to convert a set of observations of possibly correlated variables into a set of values of linearly uncorrelated variables called principal components.\n",
    "##### Learn more about it [here](https://www.wikiwand.com/en/Principal_component_analysis)."
   ],
   "metadata": {
    "collapsed": false,
    "pycharm": {
     "name": "#%% md\n",
     "is_executing": false
    }
   }
  },
  {
   "cell_type": "code",
   "execution_count": 42,
   "outputs": [
    {
     "data": {
      "text/plain": "<Figure size 720x504 with 1 Axes>",
      "image/png": "[encoded data removed]"
     },
     "metadata": {
      "image/png": {
       "width": 618,
       "height": 429
      },
      "needs_background": "light"
     },
     "output_type": "display_data"
    }
   ],
   "source": [
    "# Apply pca to the scaled train set first\n",
    "\n",
    "import numpy as np\n",
    "from sklearn import decomposition\n",
    "from sklearn.preprocessing import StandardScaler\n",
    "import matplotlib.pyplot as plt\n",
    "import seaborn as sns; sns.set(style='white')\n",
    "%matplotlib inline\n",
    "%config InlineBackend.figure_format = 'retina'\n",
    "\n",
    "X_scaled = StandardScaler().fit_transform(X_train)\n",
    "\n",
    "pca = decomposition.PCA().fit(X_scaled)\n",
    "\n",
    "plt.figure(figsize=(10, 7))\n",
    "plt.plot(np.cumsum(pca.explained_variance_ratio_), color='k', lw=2)\n",
    "plt.xlabel('Number of components')\n",
    "plt.ylabel('Total explained variance')\n",
    "plt.xlim(0, 12)\n",
    "plt.yticks(np.arange(0, 1.1, 0.1))\n",
    "plt.axvline(8, c='b') # Tune this so that you obtain at least a 95% total variance explained\n",
    "plt.axhline(0.95, c='r')\n",
    "plt.show();"
   ],
   "metadata": {
    "collapsed": false,
    "pycharm": {
     "name": "#%%\n",
     "is_executing": false
    }
   }
  },
  {
   "cell_type": "code",
   "source": [
    "# Fit your dataset to the optimal pca\n",
    "pca = decomposition.PCA(n_components=8)\n",
    "X_pca = pca.fit_transform(X_scaled)"
   ],
   "metadata": {
    "collapsed": false,
    "pycharm": {
     "name": "#%%\n",
     "is_executing": false
    }
   },
   "execution_count": 44,
   "outputs": []
  },
  {
   "cell_type": "markdown",
   "source": [
    "#### Now optionally, apply [tf-idf](https://scikit-learn.org/stable/modules/generated/sklearn.feature_extraction.text.TfidfVectorizer.html) vectorizer to the names of your tracks. Actually, this is optional because, Spotify will already do this for your tracks with more advanced techniques like [Word2Vec](https://towardsdatascience.com/using-word2vec-for-music-recommendations-bb9649ac2484) and [Annoy](https://github.com/spotify/annoy) behind the scenes, when we call the Spotipy’s track recommendation function."
   ],
   "metadata": {
    "collapsed": false,
    "pycharm": {
     "name": "#%% md\n"
    }
   }
  },
  {
   "cell_type": "code",
   "execution_count": 45,
   "outputs": [
    {
     "data": {
      "text/plain": "(31, 295)"
     },
     "metadata": {},
     "output_type": "execute_result",
     "execution_count": 45
    }
   ],
   "source": [
    "from sklearn.feature_extraction.text import TfidfVectorizer\n",
    "\n",
    "v = TfidfVectorizer(sublinear_tf=True, ngram_range=(1, 6), max_features=10000)\n",
    "X_names_sparse = v.fit_transform(track_names)\n",
    "X_names_sparse.shape"
   ],
   "metadata": {
    "collapsed": false,
    "pycharm": {
     "name": "#%%\n",
     "is_executing": false
    }
   }
  },
  {
   "cell_type": "code",
   "execution_count": 46,
   "outputs": [],
   "source": [
    "from scipy.sparse import csr_matrix, hstack\n",
    "from sklearn.model_selection import StratifiedKFold, GridSearchCV\n",
    "\n",
    "# combine the two into one last training set\n",
    "X_train_last = csr_matrix(hstack([X_pca, X_names_sparse]))\n",
    "# Initialize a stratified 5-fold for cross-validation\n",
    "skf = StratifiedKFold(n_splits=5, shuffle=True, random_state=42)"
   ],
   "metadata": {
    "collapsed": false,
    "pycharm": {
     "name": "#%%\n",
     "is_executing": false
    }
   }
  },
  {
   "cell_type": "code",
   "execution_count": null,
   "outputs": [],
   "source": [],
   "metadata": {
    "collapsed": false,
    "pycharm": {
     "name": "#%%"
    }
   }
  }
 ],
 "metadata": {
  "kernelspec": {
   "name": "pycharm-6dd3a75b",
   "language": "python",
   "display_name": "PyCharm (spotify_recommender)"
  },
  "language_info": {
   "codemirror_mode": {
    "name": "ipython",
    "version": 3
   },
   "file_extension": ".py",
   "mimetype": "text/x-python",
   "name": "python",
   "nbconvert_exporter": "python",
   "pygments_lexer": "ipython3",
   "version": "3.8.2"
  },
  "pycharm": {
   "stem_cell": {
    "cell_type": "raw",
    "source": [],
    "metadata": {
     "collapsed": false
    }
   }
  }
 },
 "nbformat": 4,
 "nbformat_minor": 4
}